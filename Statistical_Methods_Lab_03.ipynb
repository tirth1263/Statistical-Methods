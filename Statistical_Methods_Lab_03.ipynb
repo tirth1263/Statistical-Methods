{
  "nbformat": 4,
  "nbformat_minor": 0,
  "metadata": {
    "colab": {
      "provenance": []
    },
    "kernelspec": {
      "name": "python3",
      "display_name": "Python 3"
    },
    "language_info": {
      "name": "python"
    }
  },
  "cells": [
    {
      "cell_type": "markdown",
      "source": [
        "Name : Tirth Rank\n",
        "\n",
        "Roll No. : C225\n",
        "\n",
        "SAP ID : 70532100052\n",
        "\n",
        "Program : B.Tech AIML\n",
        "\n",
        "```\n",
        "# This is formatted as code\n",
        "```\n",
        "\n"
      ],
      "metadata": {
        "id": "KwCv3JdWyAxV"
      }
    },
    {
      "cell_type": "code",
      "source": [
        "#C225_TIRTH_RANK\n",
        "\n",
        "from statistics import mean \n",
        "\n",
        "a = [10000,20000,30000,40000,50000,60000,70000,80000,90000,100000]\n",
        "list_avg = mean(a)\n",
        "\n",
        "print(\"Average value of the list:\\n\") \n",
        "print(list_avg) "
      ],
      "metadata": {
        "colab": {
          "base_uri": "https://localhost:8080/"
        },
        "id": "d6j1G1v8yQ87",
        "outputId": "b8cfe648-9974-490f-e83d-b58872400c8c"
      },
      "execution_count": null,
      "outputs": [
        {
          "output_type": "stream",
          "name": "stdout",
          "text": [
            "Average value of the list:\n",
            "\n",
            "55000\n"
          ]
        }
      ]
    },
    {
      "cell_type": "code",
      "source": [
        "#C225_TIRTH_RANK\n",
        "\n",
        "import statistics\n",
        "\n",
        "set1 =[100,150,200,250,300,350,400,450,500]\n",
        "\n",
        "print(\"Mode of given data set is % s\" % (statistics.mode(set1)))\n"
      ],
      "metadata": {
        "colab": {
          "base_uri": "https://localhost:8080/"
        },
        "id": "gfv4gMlH1fsL",
        "outputId": "fc46df72-bffc-4a87-fed1-1d30e0f477ee"
      },
      "execution_count": null,
      "outputs": [
        {
          "output_type": "stream",
          "name": "stdout",
          "text": [
            "Mode of given data set is 100\n"
          ]
        }
      ]
    },
    {
      "cell_type": "code",
      "source": [
        "#C225_TIRTH_RANK\n",
        "\n",
        "import statistics\n",
        "\n",
        "print(statistics.median([-200, -150, -100, -50, 0, 50, 100]))"
      ],
      "metadata": {
        "colab": {
          "base_uri": "https://localhost:8080/"
        },
        "id": "xpiLxLKlydCz",
        "outputId": "a9de1fe3-1d34-4248-fa23-abdce1d85c0b"
      },
      "execution_count": null,
      "outputs": [
        {
          "output_type": "stream",
          "name": "stdout",
          "text": [
            "-50\n"
          ]
        }
      ]
    },
    {
      "cell_type": "code",
      "source": [
        "#C225_TIRTH_RANK\n",
        "\n",
        "from statistics import mean \n",
        "\n",
        "a = [6,7,10,12,13,4,8,12]\n",
        "list_avg = mean(a)\n",
        "\n",
        "print(\"Average value of the list:\\n\") \n",
        "print(list_avg) "
      ],
      "metadata": {
        "colab": {
          "base_uri": "https://localhost:8080/"
        },
        "id": "aYtIdwWs2HM0",
        "outputId": "d909871e-9963-45d4-e904-5bccdbe904e9"
      },
      "execution_count": null,
      "outputs": [
        {
          "output_type": "stream",
          "name": "stdout",
          "text": [
            "Average value of the list:\n",
            "\n",
            "9\n"
          ]
        }
      ]
    },
    {
      "cell_type": "markdown",
      "source": [
        "WITHOUT FUNCTIONS :"
      ],
      "metadata": {
        "id": "qiSjlZEQ4dcf"
      }
    },
    {
      "cell_type": "code",
      "source": [
        "#C225_TIRTH_RANK\n",
        "#MEAN\n",
        "\n",
        "def mean(sample):\n",
        "    return sum(sample) / len(sample)\n",
        "\n",
        "mean([6,7,10,12,13,4,8,12])\n",
        "    "
      ],
      "metadata": {
        "colab": {
          "base_uri": "https://localhost:8080/"
        },
        "id": "ZJv99eyJ2NmL",
        "outputId": "a9e7cf4c-71c3-47ba-daf8-24b41c585a87"
      },
      "execution_count": null,
      "outputs": [
        {
          "output_type": "execute_result",
          "data": {
            "text/plain": [
              "9.0"
            ]
          },
          "metadata": {},
          "execution_count": 24
        }
      ]
    },
    {
      "cell_type": "code",
      "source": [
        "#C225_TIRTH_RANK\n",
        "#MEDIAN\n",
        "\n",
        "def median(sample):\n",
        "    n = len(sample)\n",
        "    a = n // 2\n",
        "    if n % 2:\n",
        "        return (sample)[a]\n",
        "    return sum((sample)[a - 1:a + 1]) / 2\n",
        "\n",
        "median([6,7,10,12,13,4,8])"
      ],
      "metadata": {
        "colab": {
          "base_uri": "https://localhost:8080/"
        },
        "id": "NW_9Cnth3hn2",
        "outputId": "9c5139c3-25aa-4753-9675-1667854c40e3"
      },
      "execution_count": null,
      "outputs": [
        {
          "output_type": "execute_result",
          "data": {
            "text/plain": [
              "12"
            ]
          },
          "metadata": {},
          "execution_count": 26
        }
      ]
    },
    {
      "cell_type": "code",
      "source": [
        "#C225_TIRTH_RANK\n",
        "def mode(sample)\n",
        "    n = len(sample)\n",
        "    \n",
        "    \n",
        "\n",
        "\n",
        "\n",
        "\n"
      ],
      "metadata": {
        "id": "3nDXKtoL4kPu"
      },
      "execution_count": null,
      "outputs": []
    }
  ]
}